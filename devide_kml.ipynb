{
 "cells": [
  {
   "cell_type": "code",
   "execution_count": 2,
   "id": "c7dd4f3c-e0c8-497d-90d0-d4f53249f415",
   "metadata": {},
   "outputs": [],
   "source": [
    "import os\n",
    "from pykml import parser\n",
    "import pandas as pd\n",
    "import geopandas as gpd\n",
    "import fiona\n",
    "import random"
   ]
  },
  {
   "cell_type": "markdown",
   "id": "5ab542b9-c1d3-4335-a7b8-a04980769070",
   "metadata": {},
   "source": [
    "## kml 읽고 dataframe으로 변환"
   ]
  },
  {
   "cell_type": "code",
   "execution_count": 7,
   "id": "0f9aeffb-63dd-408d-8f29-2b705aad495d",
   "metadata": {
    "tags": []
   },
   "outputs": [],
   "source": [
    "fiona.drvsupport.supported_drivers['KML'] = 'rw'\n",
    "# kml파일경로설정\n",
    "df = gpd.read_file('D:/1278images/kml_data/test.kml')"
   ]
  },
  {
   "cell_type": "code",
   "execution_count": 65,
   "id": "ed2a4730-e9c1-4d98-8900-acb47a4ec50d",
   "metadata": {},
   "outputs": [
    {
     "data": {
      "text/html": [
       "<div>\n",
       "<style scoped>\n",
       "    .dataframe tbody tr th:only-of-type {\n",
       "        vertical-align: middle;\n",
       "    }\n",
       "\n",
       "    .dataframe tbody tr th {\n",
       "        vertical-align: top;\n",
       "    }\n",
       "\n",
       "    .dataframe thead th {\n",
       "        text-align: right;\n",
       "    }\n",
       "</style>\n",
       "<table border=\"1\" class=\"dataframe\">\n",
       "  <thead>\n",
       "    <tr style=\"text-align: right;\">\n",
       "      <th></th>\n",
       "      <th>Name</th>\n",
       "      <th>Description</th>\n",
       "      <th>geometry</th>\n",
       "    </tr>\n",
       "  </thead>\n",
       "  <tbody>\n",
       "    <tr>\n",
       "      <th>0</th>\n",
       "      <td>K5_20170913215431_000000_22303_A_EH20_HH_GTC_B...</td>\n",
       "      <td></td>\n",
       "      <td>POLYGON Z ((120.25556 22.63352 0.00000, 120.31...</td>\n",
       "    </tr>\n",
       "    <tr>\n",
       "      <th>1</th>\n",
       "      <td>K5_20200908215813_000010_38707_A_ES14_HH_GTC_B...</td>\n",
       "      <td></td>\n",
       "      <td>POLYGON Z ((119.84087 23.25248 0.00000, 120.18...</td>\n",
       "    </tr>\n",
       "    <tr>\n",
       "      <th>2</th>\n",
       "      <td>K5_20190819213707_004040_32903_A_ES03_HV_GTC_B...</td>\n",
       "      <td></td>\n",
       "      <td>POLYGON Z ((121.70270 24.85504 0.00000, 122.06...</td>\n",
       "    </tr>\n",
       "    <tr>\n",
       "      <th>3</th>\n",
       "      <td>K5_20191010094003_000010_33677_D_ES14_HH_GTC_B...</td>\n",
       "      <td></td>\n",
       "      <td>POLYGON Z ((120.12212 24.14729 0.00000, 120.47...</td>\n",
       "    </tr>\n",
       "    <tr>\n",
       "      <th>4</th>\n",
       "      <td>K5_20200616094736_000010_37436_D_ES06_HH_GTC_B...</td>\n",
       "      <td></td>\n",
       "      <td>POLYGON Z ((120.36887 23.06951 0.00000, 120.74...</td>\n",
       "    </tr>\n",
       "    <tr>\n",
       "      <th>...</th>\n",
       "      <td>...</td>\n",
       "      <td>...</td>\n",
       "      <td>...</td>\n",
       "    </tr>\n",
       "    <tr>\n",
       "      <th>1273</th>\n",
       "      <td>K5_20170716203220_000000_21415_A_EH05_HH_GTC_B...</td>\n",
       "      <td></td>\n",
       "      <td>POLYGON Z ((131.56207 33.25661 0.00000, 131.63...</td>\n",
       "    </tr>\n",
       "    <tr>\n",
       "      <th>1274</th>\n",
       "      <td>K5_20220106091736_000010_45991_D_ES04_HH_GTC_B...</td>\n",
       "      <td></td>\n",
       "      <td>POLYGON Z ((130.38143 31.57368 0.00000, 130.77...</td>\n",
       "    </tr>\n",
       "    <tr>\n",
       "      <th>1275</th>\n",
       "      <td>K5_20210403090832_008084_41811_D_ES07_HH_GTC_B...</td>\n",
       "      <td></td>\n",
       "      <td>POLYGON Z ((131.44950 32.95012 0.00000, 131.85...</td>\n",
       "    </tr>\n",
       "    <tr>\n",
       "      <th>1276</th>\n",
       "      <td>K5_20210917091324_000010_44322_D_ES07_HH_GTC_B...</td>\n",
       "      <td></td>\n",
       "      <td>POLYGON Z ((130.32338 31.58918 0.00000, 130.72...</td>\n",
       "    </tr>\n",
       "    <tr>\n",
       "      <th>1277</th>\n",
       "      <td>K5_20210823090223_012166_43946_D_ES17_HH_GTC_B...</td>\n",
       "      <td></td>\n",
       "      <td>POLYGON Z ((130.38246 33.32067 0.00000, 130.75...</td>\n",
       "    </tr>\n",
       "  </tbody>\n",
       "</table>\n",
       "<p>1278 rows × 3 columns</p>\n",
       "</div>"
      ],
      "text/plain": [
       "                                                   Name Description  \\\n",
       "0     K5_20170913215431_000000_22303_A_EH20_HH_GTC_B...               \n",
       "1     K5_20200908215813_000010_38707_A_ES14_HH_GTC_B...               \n",
       "2     K5_20190819213707_004040_32903_A_ES03_HV_GTC_B...               \n",
       "3     K5_20191010094003_000010_33677_D_ES14_HH_GTC_B...               \n",
       "4     K5_20200616094736_000010_37436_D_ES06_HH_GTC_B...               \n",
       "...                                                 ...         ...   \n",
       "1273  K5_20170716203220_000000_21415_A_EH05_HH_GTC_B...               \n",
       "1274  K5_20220106091736_000010_45991_D_ES04_HH_GTC_B...               \n",
       "1275  K5_20210403090832_008084_41811_D_ES07_HH_GTC_B...               \n",
       "1276  K5_20210917091324_000010_44322_D_ES07_HH_GTC_B...               \n",
       "1277  K5_20210823090223_012166_43946_D_ES17_HH_GTC_B...               \n",
       "\n",
       "                                               geometry  \n",
       "0     POLYGON Z ((120.25556 22.63352 0.00000, 120.31...  \n",
       "1     POLYGON Z ((119.84087 23.25248 0.00000, 120.18...  \n",
       "2     POLYGON Z ((121.70270 24.85504 0.00000, 122.06...  \n",
       "3     POLYGON Z ((120.12212 24.14729 0.00000, 120.47...  \n",
       "4     POLYGON Z ((120.36887 23.06951 0.00000, 120.74...  \n",
       "...                                                 ...  \n",
       "1273  POLYGON Z ((131.56207 33.25661 0.00000, 131.63...  \n",
       "1274  POLYGON Z ((130.38143 31.57368 0.00000, 130.77...  \n",
       "1275  POLYGON Z ((131.44950 32.95012 0.00000, 131.85...  \n",
       "1276  POLYGON Z ((130.32338 31.58918 0.00000, 130.72...  \n",
       "1277  POLYGON Z ((130.38246 33.32067 0.00000, 130.75...  \n",
       "\n",
       "[1278 rows x 3 columns]"
      ]
     },
     "execution_count": 65,
     "metadata": {},
     "output_type": "execute_result"
    }
   ],
   "source": [
    "df"
   ]
  },
  {
   "cell_type": "markdown",
   "id": "bfbc16ca-1f18-40fa-a37f-153797461435",
   "metadata": {},
   "source": [
    "## 개수로 나누기"
   ]
  },
  {
   "cell_type": "markdown",
   "id": "efbde526-8e00-4c7e-816c-3cbc801fc3de",
   "metadata": {},
   "source": [
    "## name을 기준으로 (월별나누기) 리스트로 변환"
   ]
  },
  {
   "cell_type": "code",
   "execution_count": 3,
   "id": "0d358fe8-68bc-4692-922b-dd186e4dde00",
   "metadata": {
    "tags": []
   },
   "outputs": [],
   "source": [
    "list13 = []\n",
    "list1234 = []\n",
    "list36 = []\n",
    "list69 = []\n",
    "list912 = []\n",
    "\n",
    "for i in range(len(dataframe)):\n",
    "    date = dataframe.Name[i][7:9]\n",
    "    if int(date) < 5:\n",
    "        list1234.append(dataframe.Name[i])\n",
    "    elif int(date) < 7:\n",
    "        list36.append(dataframe.Name[i])\n",
    "    elif int(date) < 10:\n",
    "        list69.append(dataframe.Name[i])\n",
    "    else:\n",
    "        list912.append(dataframe.Name[i])\n",
    "            \n"
   ]
  },
  {
   "cell_type": "markdown",
   "id": "1af6a1dd-a85a-4811-8879-f0d1e8db4ffa",
   "metadata": {},
   "source": [
    "## random data 추출"
   ]
  },
  {
   "cell_type": "code",
   "execution_count": 10,
   "id": "d745d6d7-d0bb-4d5c-833f-f7c1fc3d195e",
   "metadata": {},
   "outputs": [],
   "source": [
    "one = random.sample(list1234,20)"
   ]
  },
  {
   "cell_type": "code",
   "execution_count": 11,
   "id": "f8f48930-5613-4da8-9311-74d561429aab",
   "metadata": {
    "collapsed": true,
    "jupyter": {
     "outputs_hidden": true
    },
    "tags": []
   },
   "outputs": [
    {
     "data": {
      "text/plain": [
       "['K5_20200211085558_020189_35541_D_ES01_HH_GTC_B_L1D',\n",
       " 'K5_20200327201540_000000_36225_A_EH14_HH_GTC_B_L1D',\n",
       " 'K5_20170119085040_000000_18731_D_EH06_VV_GTC_B_L1D',\n",
       " 'K5_20210120083010_012161_40713_D_ES16_HH_GTC_B_L1D',\n",
       " 'K5_20190401200458_000000_30797_A_EH29_HH_GTC_B_L1D',\n",
       " 'K5_20200321081736_008115_36127_D_ES19_HH_GTC_B_L1D',\n",
       " 'K5_20180316084539_000000_25061_D_HR11_VV_GTC_B_L1D',\n",
       " 'K5_20200412083913_008116_36458_D_ES19_HH_GTC_B_L1D',\n",
       " 'K5_20220104200621_012117_45968_A_ES05_HH_GTC_B_L1D',\n",
       " 'K5_20210409084652_008074_41901_D_ES01_HH_GTC_B_L1D',\n",
       " 'K5_20220206090658_000000_46457_D_EH06_HH_GTC_B_L1D',\n",
       " 'K5_20170120084716_000000_18746_D_HR11_VV_GTC_B_L1D',\n",
       " 'K5_20200228201537_000000_35804_A_EH14_HH_GTC_B_L1D',\n",
       " 'K5_20210327201345_000000_41713_A_EH20_HH_GTC_B_L1D',\n",
       " 'K5_20180122083346_000000_24264_D_EH09_HH_GTC_B_L1D',\n",
       " 'K5_20200115085250_000010_35135_D_ES07_HH_GTC_B_L1D',\n",
       " 'K5_20180412084857_000000_25467_D_EH06_VV_GTC_B_L1D',\n",
       " 'K5_20190314084839_000000_30519_D_EH06_VV_GTC_B_L1D',\n",
       " 'K5_20180108200534_000000_24061_A_EH30_HH_GTC_B_L1D',\n",
       " 'K5_20220317082702_000010_47043_D_ES17_HH_GTC_B_L1D']"
      ]
     },
     "execution_count": 11,
     "metadata": {},
     "output_type": "execute_result"
    }
   ],
   "source": [
    "one"
   ]
  },
  {
   "cell_type": "markdown",
   "id": "27b6887f-bb90-4707-9284-306ba9f32be6",
   "metadata": {},
   "source": [
    "## 추출한 name이있는 kml확인"
   ]
  },
  {
   "cell_type": "code",
   "execution_count": 12,
   "id": "d253b788-e6bf-48ac-8cef-1f8c6c1febc0",
   "metadata": {},
   "outputs": [],
   "source": [
    "kml1234 = dataframe[dataframe['Name'].isin(one)]"
   ]
  },
  {
   "cell_type": "code",
   "execution_count": 13,
   "id": "ddfb360f-1b7c-408d-b7d0-f850d6cc1b50",
   "metadata": {
    "collapsed": true,
    "jupyter": {
     "outputs_hidden": true
    },
    "tags": []
   },
   "outputs": [
    {
     "data": {
      "text/html": [
       "<div>\n",
       "<style scoped>\n",
       "    .dataframe tbody tr th:only-of-type {\n",
       "        vertical-align: middle;\n",
       "    }\n",
       "\n",
       "    .dataframe tbody tr th {\n",
       "        vertical-align: top;\n",
       "    }\n",
       "\n",
       "    .dataframe thead th {\n",
       "        text-align: right;\n",
       "    }\n",
       "</style>\n",
       "<table border=\"1\" class=\"dataframe\">\n",
       "  <thead>\n",
       "    <tr style=\"text-align: right;\">\n",
       "      <th></th>\n",
       "      <th>Name</th>\n",
       "      <th>Description</th>\n",
       "      <th>geometry</th>\n",
       "    </tr>\n",
       "  </thead>\n",
       "  <tbody>\n",
       "    <tr>\n",
       "      <th>157</th>\n",
       "      <td>K5_20200228201537_000000_35804_A_EH14_HH_GTC_B...</td>\n",
       "      <td></td>\n",
       "      <td>POLYGON Z ((133.25917 36.34945 0.00000, 133.32...</td>\n",
       "    </tr>\n",
       "    <tr>\n",
       "      <th>172</th>\n",
       "      <td>K5_20180412084857_000000_25467_D_EH06_VV_GTC_B...</td>\n",
       "      <td></td>\n",
       "      <td>POLYGON Z ((137.45441 35.92077 0.00000, 137.53...</td>\n",
       "    </tr>\n",
       "    <tr>\n",
       "      <th>255</th>\n",
       "      <td>K5_20170120084716_000000_18746_D_HR11_VV_GTC_B...</td>\n",
       "      <td></td>\n",
       "      <td>POLYGON Z ((137.45563 35.91958 0.00000, 137.53...</td>\n",
       "    </tr>\n",
       "    <tr>\n",
       "      <th>328</th>\n",
       "      <td>K5_20190401200458_000000_30797_A_EH29_HH_GTC_B...</td>\n",
       "      <td></td>\n",
       "      <td>POLYGON Z ((133.12954 36.31747 0.00000, 133.19...</td>\n",
       "    </tr>\n",
       "    <tr>\n",
       "      <th>499</th>\n",
       "      <td>K5_20180108200534_000000_24061_A_EH30_HH_GTC_B...</td>\n",
       "      <td></td>\n",
       "      <td>POLYGON Z ((132.94869 36.13676 0.00000, 133.01...</td>\n",
       "    </tr>\n",
       "    <tr>\n",
       "      <th>541</th>\n",
       "      <td>K5_20190314084839_000000_30519_D_EH06_VV_GTC_B...</td>\n",
       "      <td></td>\n",
       "      <td>POLYGON Z ((137.45398 35.92078 0.00000, 137.53...</td>\n",
       "    </tr>\n",
       "    <tr>\n",
       "      <th>550</th>\n",
       "      <td>K5_20180316084539_000000_25061_D_HR11_VV_GTC_B...</td>\n",
       "      <td></td>\n",
       "      <td>POLYGON Z ((137.45385 35.92044 0.00000, 137.53...</td>\n",
       "    </tr>\n",
       "    <tr>\n",
       "      <th>584</th>\n",
       "      <td>K5_20200327201540_000000_36225_A_EH14_HH_GTC_B...</td>\n",
       "      <td></td>\n",
       "      <td>POLYGON Z ((133.31723 36.34433 0.00000, 133.38...</td>\n",
       "    </tr>\n",
       "    <tr>\n",
       "      <th>606</th>\n",
       "      <td>K5_20210327201345_000000_41713_A_EH20_HH_GTC_B...</td>\n",
       "      <td></td>\n",
       "      <td>POLYGON Z ((133.28059 36.27406 0.00000, 133.35...</td>\n",
       "    </tr>\n",
       "    <tr>\n",
       "      <th>614</th>\n",
       "      <td>K5_20170119085040_000000_18731_D_EH06_VV_GTC_B...</td>\n",
       "      <td></td>\n",
       "      <td>POLYGON Z ((137.45220 35.92060 0.00000, 137.53...</td>\n",
       "    </tr>\n",
       "    <tr>\n",
       "      <th>638</th>\n",
       "      <td>K5_20200412083913_008116_36458_D_ES19_HH_GTC_B...</td>\n",
       "      <td></td>\n",
       "      <td>POLYGON Z ((135.28257 35.24068 0.00000, 135.66...</td>\n",
       "    </tr>\n",
       "    <tr>\n",
       "      <th>681</th>\n",
       "      <td>K5_20200115085250_000010_35135_D_ES07_HH_GTC_B...</td>\n",
       "      <td></td>\n",
       "      <td>POLYGON Z ((135.28061 35.05385 0.00000, 135.70...</td>\n",
       "    </tr>\n",
       "    <tr>\n",
       "      <th>737</th>\n",
       "      <td>K5_20200211085558_020189_35541_D_ES01_HH_GTC_B...</td>\n",
       "      <td></td>\n",
       "      <td>POLYGON Z ((136.14770 34.67923 0.00000, 136.58...</td>\n",
       "    </tr>\n",
       "    <tr>\n",
       "      <th>818</th>\n",
       "      <td>K5_20220206090658_000000_46457_D_EH06_HH_GTC_B...</td>\n",
       "      <td></td>\n",
       "      <td>POLYGON Z ((133.51961 33.54470 0.00000, 133.58...</td>\n",
       "    </tr>\n",
       "    <tr>\n",
       "      <th>851</th>\n",
       "      <td>K5_20180122083346_000000_24264_D_EH09_HH_GTC_B...</td>\n",
       "      <td></td>\n",
       "      <td>POLYGON Z ((141.81841 42.64639 0.00000, 141.89...</td>\n",
       "    </tr>\n",
       "    <tr>\n",
       "      <th>892</th>\n",
       "      <td>K5_20210120083010_012161_40713_D_ES16_HH_GTC_B...</td>\n",
       "      <td></td>\n",
       "      <td>POLYGON Z ((138.57827 34.82076 0.00000, 138.96...</td>\n",
       "    </tr>\n",
       "    <tr>\n",
       "      <th>906</th>\n",
       "      <td>K5_20210409084652_008074_41901_D_ES01_HH_GTC_B...</td>\n",
       "      <td></td>\n",
       "      <td>POLYGON Z ((139.32413 37.06026 0.00000, 139.79...</td>\n",
       "    </tr>\n",
       "    <tr>\n",
       "      <th>1026</th>\n",
       "      <td>K5_20220317082702_000010_47043_D_ES17_HH_GTC_B...</td>\n",
       "      <td></td>\n",
       "      <td>POLYGON Z ((140.76074 43.53900 0.00000, 141.19...</td>\n",
       "    </tr>\n",
       "    <tr>\n",
       "      <th>1094</th>\n",
       "      <td>K5_20200321081736_008115_36127_D_ES19_HH_GTC_B...</td>\n",
       "      <td></td>\n",
       "      <td>POLYGON Z ((141.07202 39.08247 0.00000, 141.46...</td>\n",
       "    </tr>\n",
       "    <tr>\n",
       "      <th>1119</th>\n",
       "      <td>K5_20220104200621_012117_45968_A_ES05_HH_GTC_B...</td>\n",
       "      <td></td>\n",
       "      <td>POLYGON Z ((142.90977 42.81140 0.00000, 143.35...</td>\n",
       "    </tr>\n",
       "  </tbody>\n",
       "</table>\n",
       "</div>"
      ],
      "text/plain": [
       "                                                   Name Description  \\\n",
       "157   K5_20200228201537_000000_35804_A_EH14_HH_GTC_B...               \n",
       "172   K5_20180412084857_000000_25467_D_EH06_VV_GTC_B...               \n",
       "255   K5_20170120084716_000000_18746_D_HR11_VV_GTC_B...               \n",
       "328   K5_20190401200458_000000_30797_A_EH29_HH_GTC_B...               \n",
       "499   K5_20180108200534_000000_24061_A_EH30_HH_GTC_B...               \n",
       "541   K5_20190314084839_000000_30519_D_EH06_VV_GTC_B...               \n",
       "550   K5_20180316084539_000000_25061_D_HR11_VV_GTC_B...               \n",
       "584   K5_20200327201540_000000_36225_A_EH14_HH_GTC_B...               \n",
       "606   K5_20210327201345_000000_41713_A_EH20_HH_GTC_B...               \n",
       "614   K5_20170119085040_000000_18731_D_EH06_VV_GTC_B...               \n",
       "638   K5_20200412083913_008116_36458_D_ES19_HH_GTC_B...               \n",
       "681   K5_20200115085250_000010_35135_D_ES07_HH_GTC_B...               \n",
       "737   K5_20200211085558_020189_35541_D_ES01_HH_GTC_B...               \n",
       "818   K5_20220206090658_000000_46457_D_EH06_HH_GTC_B...               \n",
       "851   K5_20180122083346_000000_24264_D_EH09_HH_GTC_B...               \n",
       "892   K5_20210120083010_012161_40713_D_ES16_HH_GTC_B...               \n",
       "906   K5_20210409084652_008074_41901_D_ES01_HH_GTC_B...               \n",
       "1026  K5_20220317082702_000010_47043_D_ES17_HH_GTC_B...               \n",
       "1094  K5_20200321081736_008115_36127_D_ES19_HH_GTC_B...               \n",
       "1119  K5_20220104200621_012117_45968_A_ES05_HH_GTC_B...               \n",
       "\n",
       "                                               geometry  \n",
       "157   POLYGON Z ((133.25917 36.34945 0.00000, 133.32...  \n",
       "172   POLYGON Z ((137.45441 35.92077 0.00000, 137.53...  \n",
       "255   POLYGON Z ((137.45563 35.91958 0.00000, 137.53...  \n",
       "328   POLYGON Z ((133.12954 36.31747 0.00000, 133.19...  \n",
       "499   POLYGON Z ((132.94869 36.13676 0.00000, 133.01...  \n",
       "541   POLYGON Z ((137.45398 35.92078 0.00000, 137.53...  \n",
       "550   POLYGON Z ((137.45385 35.92044 0.00000, 137.53...  \n",
       "584   POLYGON Z ((133.31723 36.34433 0.00000, 133.38...  \n",
       "606   POLYGON Z ((133.28059 36.27406 0.00000, 133.35...  \n",
       "614   POLYGON Z ((137.45220 35.92060 0.00000, 137.53...  \n",
       "638   POLYGON Z ((135.28257 35.24068 0.00000, 135.66...  \n",
       "681   POLYGON Z ((135.28061 35.05385 0.00000, 135.70...  \n",
       "737   POLYGON Z ((136.14770 34.67923 0.00000, 136.58...  \n",
       "818   POLYGON Z ((133.51961 33.54470 0.00000, 133.58...  \n",
       "851   POLYGON Z ((141.81841 42.64639 0.00000, 141.89...  \n",
       "892   POLYGON Z ((138.57827 34.82076 0.00000, 138.96...  \n",
       "906   POLYGON Z ((139.32413 37.06026 0.00000, 139.79...  \n",
       "1026  POLYGON Z ((140.76074 43.53900 0.00000, 141.19...  \n",
       "1094  POLYGON Z ((141.07202 39.08247 0.00000, 141.46...  \n",
       "1119  POLYGON Z ((142.90977 42.81140 0.00000, 143.35...  "
      ]
     },
     "execution_count": 13,
     "metadata": {},
     "output_type": "execute_result"
    }
   ],
   "source": [
    "kml1234"
   ]
  },
  {
   "cell_type": "markdown",
   "id": "05a76b16-b6d5-4b4e-acd8-bed47ae2b498",
   "metadata": {},
   "source": [
    "## dataframe -> kml로 변환"
   ]
  },
  {
   "cell_type": "code",
   "execution_count": 15,
   "id": "c2e8d8b6-3956-4c6f-892f-458983cda1af",
   "metadata": {},
   "outputs": [
    {
     "name": "stderr",
     "output_type": "stream",
     "text": [
      "C:\\Users\\inbum\\Anaconda3\\lib\\site-packages\\geopandas\\io\\file.py:299: FutureWarning: pandas.Int64Index is deprecated and will be removed from pandas in a future version. Use pandas.Index with the appropriate dtype instead.\n",
      "  pd.Int64Index,\n"
     ]
    }
   ],
   "source": [
    "kml1234.to_file('D:/1278images/kml_data/kml1234.kml',driver='KML')"
   ]
  },
  {
   "cell_type": "code",
   "execution_count": null,
   "id": "0d8e364b-98f9-4263-8612-90cb48c19af3",
   "metadata": {},
   "outputs": [],
   "source": []
  }
 ],
 "metadata": {
  "kernelspec": {
   "display_name": "Python 3 (ipykernel)",
   "language": "python",
   "name": "python3"
  },
  "language_info": {
   "codemirror_mode": {
    "name": "ipython",
    "version": 3
   },
   "file_extension": ".py",
   "mimetype": "text/x-python",
   "name": "python",
   "nbconvert_exporter": "python",
   "pygments_lexer": "ipython3",
   "version": "3.9.16"
  }
 },
 "nbformat": 4,
 "nbformat_minor": 5
}

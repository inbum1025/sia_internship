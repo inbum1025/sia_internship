{
 "cells": [
  {
   "cell_type": "code",
   "execution_count": 1,
   "id": "42b8ae76-b7bf-4e22-947e-c9de76d61caf",
   "metadata": {},
   "outputs": [],
   "source": [
    "import os\n",
    "from pykml import parser\n",
    "import xml.etree.ElementTree as ET\n",
    "import pandas as pd\n",
    "import datetime\n",
    "\n",
    "import geopandas as gpd\n",
    "import fiona\n",
    "import natsort\n",
    "from shapely.geometry import Polygon, MultiPolygon"
   ]
  },
  {
   "cell_type": "markdown",
   "id": "2176cd7a-0f51-4269-889e-eee2e7d0969a",
   "metadata": {
    "tags": []
   },
   "source": [
    "## kml 9~12월 해당영상 csv파일 만들기"
   ]
  },
  {
   "cell_type": "code",
   "execution_count": 6,
   "id": "087c62e7-3109-4925-aec8-d1e03786c44a",
   "metadata": {},
   "outputs": [],
   "source": [
    "fiona.drvsupport.supported_drivers['KML'] = 'rw'\n",
    "df = gpd.read_file('D:/1278images/kml_data/kml13_2.kml')"
   ]
  },
  {
   "cell_type": "code",
   "execution_count": 7,
   "id": "cbb2bd30-aa1d-4c5f-87ca-4a436ae8a17a",
   "metadata": {
    "tags": []
   },
   "outputs": [
    {
     "data": {
      "text/html": [
       "<div>\n",
       "<style scoped>\n",
       "    .dataframe tbody tr th:only-of-type {\n",
       "        vertical-align: middle;\n",
       "    }\n",
       "\n",
       "    .dataframe tbody tr th {\n",
       "        vertical-align: top;\n",
       "    }\n",
       "\n",
       "    .dataframe thead th {\n",
       "        text-align: right;\n",
       "    }\n",
       "</style>\n",
       "<table border=\"1\" class=\"dataframe\">\n",
       "  <thead>\n",
       "    <tr style=\"text-align: right;\">\n",
       "      <th></th>\n",
       "      <th>Name</th>\n",
       "      <th>Description</th>\n",
       "      <th>geometry</th>\n",
       "    </tr>\n",
       "  </thead>\n",
       "  <tbody>\n",
       "    <tr>\n",
       "      <th>0</th>\n",
       "      <td>K5_20150402220158_000000_08846_A_HR23_HH_GTC_B...</td>\n",
       "      <td></td>\n",
       "      <td>POLYGON Z ((120.27460 22.64766 0.00000, 120.33...</td>\n",
       "    </tr>\n",
       "    <tr>\n",
       "      <th>1</th>\n",
       "      <td>K5_20190510084513_000000_31376_D_HR11_VV_GTC_B...</td>\n",
       "      <td></td>\n",
       "      <td>POLYGON Z ((137.45549 35.92052 0.00000, 137.53...</td>\n",
       "    </tr>\n",
       "    <tr>\n",
       "      <th>2</th>\n",
       "      <td>K5_20200621200911_000000_37518_A_EH02_HH_GTC_B...</td>\n",
       "      <td></td>\n",
       "      <td>POLYGON Z ((136.83685 37.37858 0.00000, 136.91...</td>\n",
       "    </tr>\n",
       "    <tr>\n",
       "      <th>3</th>\n",
       "      <td>K5_20210523201037_000000_42570_A_EH26_HH_GTC_B...</td>\n",
       "      <td></td>\n",
       "      <td>POLYGON Z ((133.04497 36.18678 0.00000, 133.11...</td>\n",
       "    </tr>\n",
       "    <tr>\n",
       "      <th>4</th>\n",
       "      <td>K5_20210524200715_000000_42585_A_EH30_HH_GTC_B...</td>\n",
       "      <td></td>\n",
       "      <td>POLYGON Z ((132.98922 36.14776 0.00000, 133.06...</td>\n",
       "    </tr>\n",
       "    <tr>\n",
       "      <th>5</th>\n",
       "      <td>K5_20190506085933_000000_31316_D_EH11_HH_GTC_B...</td>\n",
       "      <td></td>\n",
       "      <td>POLYGON Z ((133.48949 33.54723 0.00000, 133.55...</td>\n",
       "    </tr>\n",
       "    <tr>\n",
       "      <th>6</th>\n",
       "      <td>K5_20200620201228_000000_37503_A_EH22_HH_GTC_B...</td>\n",
       "      <td></td>\n",
       "      <td>POLYGON Z ((133.02392 36.19216 0.00000, 133.09...</td>\n",
       "    </tr>\n",
       "    <tr>\n",
       "      <th>7</th>\n",
       "      <td>K5_20180527200827_000000_26151_A_EH26_HH_GTC_B...</td>\n",
       "      <td></td>\n",
       "      <td>POLYGON Z ((133.01203 36.07745 0.00000, 133.08...</td>\n",
       "    </tr>\n",
       "    <tr>\n",
       "      <th>8</th>\n",
       "      <td>K5_20210423201715_000000_42119_A_EH14_HH_GTC_B...</td>\n",
       "      <td></td>\n",
       "      <td>POLYGON Z ((133.26687 36.29331 0.00000, 133.33...</td>\n",
       "    </tr>\n",
       "    <tr>\n",
       "      <th>9</th>\n",
       "      <td>K5_20180429200838_000000_25730_A_EH03_HH_GTC_B...</td>\n",
       "      <td></td>\n",
       "      <td>POLYGON Z ((136.71286 37.30803 0.00000, 136.77...</td>\n",
       "    </tr>\n",
       "    <tr>\n",
       "      <th>10</th>\n",
       "      <td>K5_20210504085751_012147_42277_D_ES13_HH_GTC_B...</td>\n",
       "      <td></td>\n",
       "      <td>POLYGON Z ((132.71638 35.02060 0.00000, 133.10...</td>\n",
       "    </tr>\n",
       "    <tr>\n",
       "      <th>11</th>\n",
       "      <td>K5_20170512084638_000000_20430_D_HR11_VV_GTC_B...</td>\n",
       "      <td></td>\n",
       "      <td>POLYGON Z ((137.45254 35.92099 0.00000, 137.52...</td>\n",
       "    </tr>\n",
       "    <tr>\n",
       "      <th>12</th>\n",
       "      <td>K5_20150416090038_000000_09048_D_HR08_HH_GTC_B...</td>\n",
       "      <td></td>\n",
       "      <td>POLYGON Z ((135.43619 34.71286 0.00000, 135.50...</td>\n",
       "    </tr>\n",
       "    <tr>\n",
       "      <th>13</th>\n",
       "      <td>K5_20210619201409_000000_42976_A_EH20_HH_GTC_B...</td>\n",
       "      <td></td>\n",
       "      <td>POLYGON Z ((133.24443 36.35066 0.00000, 133.31...</td>\n",
       "    </tr>\n",
       "    <tr>\n",
       "      <th>14</th>\n",
       "      <td>K5_20200630085612_000000_37646_D_EH04_HH_GTC_B...</td>\n",
       "      <td></td>\n",
       "      <td>POLYGON Z ((136.20947 36.09293 0.00000, 136.27...</td>\n",
       "    </tr>\n",
       "    <tr>\n",
       "      <th>15</th>\n",
       "      <td>K5_20200413083533_004053_36473_D_ES16_HH_GTC_B...</td>\n",
       "      <td></td>\n",
       "      <td>POLYGON Z ((137.18696 36.23283 0.00000, 137.56...</td>\n",
       "    </tr>\n",
       "  </tbody>\n",
       "</table>\n",
       "</div>"
      ],
      "text/plain": [
       "                                                 Name Description  \\\n",
       "0   K5_20150402220158_000000_08846_A_HR23_HH_GTC_B...               \n",
       "1   K5_20190510084513_000000_31376_D_HR11_VV_GTC_B...               \n",
       "2   K5_20200621200911_000000_37518_A_EH02_HH_GTC_B...               \n",
       "3   K5_20210523201037_000000_42570_A_EH26_HH_GTC_B...               \n",
       "4   K5_20210524200715_000000_42585_A_EH30_HH_GTC_B...               \n",
       "5   K5_20190506085933_000000_31316_D_EH11_HH_GTC_B...               \n",
       "6   K5_20200620201228_000000_37503_A_EH22_HH_GTC_B...               \n",
       "7   K5_20180527200827_000000_26151_A_EH26_HH_GTC_B...               \n",
       "8   K5_20210423201715_000000_42119_A_EH14_HH_GTC_B...               \n",
       "9   K5_20180429200838_000000_25730_A_EH03_HH_GTC_B...               \n",
       "10  K5_20210504085751_012147_42277_D_ES13_HH_GTC_B...               \n",
       "11  K5_20170512084638_000000_20430_D_HR11_VV_GTC_B...               \n",
       "12  K5_20150416090038_000000_09048_D_HR08_HH_GTC_B...               \n",
       "13  K5_20210619201409_000000_42976_A_EH20_HH_GTC_B...               \n",
       "14  K5_20200630085612_000000_37646_D_EH04_HH_GTC_B...               \n",
       "15  K5_20200413083533_004053_36473_D_ES16_HH_GTC_B...               \n",
       "\n",
       "                                             geometry  \n",
       "0   POLYGON Z ((120.27460 22.64766 0.00000, 120.33...  \n",
       "1   POLYGON Z ((137.45549 35.92052 0.00000, 137.53...  \n",
       "2   POLYGON Z ((136.83685 37.37858 0.00000, 136.91...  \n",
       "3   POLYGON Z ((133.04497 36.18678 0.00000, 133.11...  \n",
       "4   POLYGON Z ((132.98922 36.14776 0.00000, 133.06...  \n",
       "5   POLYGON Z ((133.48949 33.54723 0.00000, 133.55...  \n",
       "6   POLYGON Z ((133.02392 36.19216 0.00000, 133.09...  \n",
       "7   POLYGON Z ((133.01203 36.07745 0.00000, 133.08...  \n",
       "8   POLYGON Z ((133.26687 36.29331 0.00000, 133.33...  \n",
       "9   POLYGON Z ((136.71286 37.30803 0.00000, 136.77...  \n",
       "10  POLYGON Z ((132.71638 35.02060 0.00000, 133.10...  \n",
       "11  POLYGON Z ((137.45254 35.92099 0.00000, 137.52...  \n",
       "12  POLYGON Z ((135.43619 34.71286 0.00000, 135.50...  \n",
       "13  POLYGON Z ((133.24443 36.35066 0.00000, 133.31...  \n",
       "14  POLYGON Z ((136.20947 36.09293 0.00000, 136.27...  \n",
       "15  POLYGON Z ((137.18696 36.23283 0.00000, 137.56...  "
      ]
     },
     "execution_count": 7,
     "metadata": {},
     "output_type": "execute_result"
    }
   ],
   "source": [
    "df"
   ]
  },
  {
   "cell_type": "code",
   "execution_count": 8,
   "id": "9ad67192-98a9-478e-a7a8-e31f9f55629f",
   "metadata": {},
   "outputs": [],
   "source": [
    "df_n = df['Name']"
   ]
  },
  {
   "cell_type": "code",
   "execution_count": 9,
   "id": "1196382e-4c4c-459d-ad93-9efcc2873102",
   "metadata": {
    "tags": []
   },
   "outputs": [
    {
     "data": {
      "text/plain": [
       "0     K5_20150402220158_000000_08846_A_HR23_HH_GTC_B...\n",
       "1     K5_20190510084513_000000_31376_D_HR11_VV_GTC_B...\n",
       "2     K5_20200621200911_000000_37518_A_EH02_HH_GTC_B...\n",
       "3     K5_20210523201037_000000_42570_A_EH26_HH_GTC_B...\n",
       "4     K5_20210524200715_000000_42585_A_EH30_HH_GTC_B...\n",
       "5     K5_20190506085933_000000_31316_D_EH11_HH_GTC_B...\n",
       "6     K5_20200620201228_000000_37503_A_EH22_HH_GTC_B...\n",
       "7     K5_20180527200827_000000_26151_A_EH26_HH_GTC_B...\n",
       "8     K5_20210423201715_000000_42119_A_EH14_HH_GTC_B...\n",
       "9     K5_20180429200838_000000_25730_A_EH03_HH_GTC_B...\n",
       "10    K5_20210504085751_012147_42277_D_ES13_HH_GTC_B...\n",
       "11    K5_20170512084638_000000_20430_D_HR11_VV_GTC_B...\n",
       "12    K5_20150416090038_000000_09048_D_HR08_HH_GTC_B...\n",
       "13    K5_20210619201409_000000_42976_A_EH20_HH_GTC_B...\n",
       "14    K5_20200630085612_000000_37646_D_EH04_HH_GTC_B...\n",
       "15    K5_20200413083533_004053_36473_D_ES16_HH_GTC_B...\n",
       "Name: Name, dtype: object"
      ]
     },
     "execution_count": 9,
     "metadata": {},
     "output_type": "execute_result"
    }
   ],
   "source": [
    "df_n"
   ]
  },
  {
   "cell_type": "code",
   "execution_count": 10,
   "id": "b4df978f-94b2-4e15-ab49-8ceb3ff435dc",
   "metadata": {},
   "outputs": [],
   "source": [
    "folder_list = os.listdir('D:/1278images/Mapbox')\n",
    "folder_list = natsort.natsorted(folder_list)"
   ]
  },
  {
   "cell_type": "code",
   "execution_count": 13,
   "id": "488136ab-9005-4d6b-9bcd-050eb7252ff5",
   "metadata": {},
   "outputs": [],
   "source": [
    "folder_list2 = folder_list"
   ]
  },
  {
   "cell_type": "code",
   "execution_count": 14,
   "id": "7b28b028-85fa-43da-962e-cd7f4651941b",
   "metadata": {},
   "outputs": [
    {
     "data": {
      "text/plain": [
       "['20230223', '20230224']"
      ]
     },
     "execution_count": 14,
     "metadata": {},
     "output_type": "execute_result"
    }
   ],
   "source": [
    "folder_list2"
   ]
  },
  {
   "cell_type": "code",
   "execution_count": 15,
   "id": "0a6d55a8-256d-469a-adfe-0bd0485889fa",
   "metadata": {},
   "outputs": [],
   "source": [
    "image_list = []\n",
    "for i in range(len(folder_list2)):\n",
    "    l = str(folder_list2[i])\n",
    "    p = 'D:/1278images/Mapbox/'\n",
    "    path = p + l\n",
    "    m = os.listdir(path)\n",
    "    n = natsort.natsorted(m)\n",
    "    for i in range(len(n)):\n",
    "        image_list.append(n[i])"
   ]
  },
  {
   "cell_type": "code",
   "execution_count": 17,
   "id": "6793503a-63fd-4213-b44d-a692cbf950a2",
   "metadata": {
    "tags": []
   },
   "outputs": [
    {
     "data": {
      "text/plain": [
       "['Mapbox_20230223_011327_zoom_level_0_5.tif',\n",
       " 'Mapbox_20230223_011648_zoom_level_0_5.tif',\n",
       " 'Mapbox_20230223_012203_zoom_level_0_5.tif',\n",
       " 'Mapbox_20230223_100749_zoom_level_0_5.tif',\n",
       " 'Mapbox_20230223_101219_zoom_level_0_5.tif',\n",
       " 'Mapbox_20230223_101644_zoom_level_0_5.tif',\n",
       " 'Mapbox_20230223_102051_zoom_level_0_5.tif',\n",
       " 'Mapbox_20230223_102211_zoom_level_0_5.tif',\n",
       " 'Mapbox_20230223_102659_zoom_level_0_5.tif',\n",
       " 'Mapbox_20230223_103145_zoom_level_0_5.tif',\n",
       " 'Mapbox_20230223_103605_zoom_level_0_5.tif',\n",
       " 'Mapbox_20230223_140936_zoom_level_0_5.tif',\n",
       " 'Mapbox_20230223_141012_zoom_level_0_5.tif',\n",
       " 'Mapbox_20230224_002356_zoom_level_0_5.tif',\n",
       " 'Mapbox_20230224_002628_zoom_level_0_5.tif',\n",
       " 'Mapbox_20230224_003111_zoom_level_0_5.tif']"
      ]
     },
     "execution_count": 17,
     "metadata": {},
     "output_type": "execute_result"
    }
   ],
   "source": [
    "image_list"
   ]
  },
  {
   "cell_type": "code",
   "execution_count": 18,
   "id": "b802b39c-3ab1-44ee-b003-1f7974d709c4",
   "metadata": {},
   "outputs": [
    {
     "data": {
      "text/plain": [
       "16"
      ]
     },
     "execution_count": 18,
     "metadata": {},
     "output_type": "execute_result"
    }
   ],
   "source": [
    "len(image_list)"
   ]
  },
  {
   "cell_type": "code",
   "execution_count": 19,
   "id": "7c7aee32-4371-43ab-ae19-163d55f0a815",
   "metadata": {
    "tags": []
   },
   "outputs": [
    {
     "data": {
      "text/plain": [
       "0     K5_20150402220158_000000_08846_A_HR23_HH_GTC_B...\n",
       "1     K5_20190510084513_000000_31376_D_HR11_VV_GTC_B...\n",
       "2     K5_20200621200911_000000_37518_A_EH02_HH_GTC_B...\n",
       "3     K5_20210523201037_000000_42570_A_EH26_HH_GTC_B...\n",
       "4     K5_20210524200715_000000_42585_A_EH30_HH_GTC_B...\n",
       "5     K5_20190506085933_000000_31316_D_EH11_HH_GTC_B...\n",
       "6     K5_20200620201228_000000_37503_A_EH22_HH_GTC_B...\n",
       "7     K5_20180527200827_000000_26151_A_EH26_HH_GTC_B...\n",
       "8     K5_20210423201715_000000_42119_A_EH14_HH_GTC_B...\n",
       "9     K5_20180429200838_000000_25730_A_EH03_HH_GTC_B...\n",
       "10    K5_20210504085751_012147_42277_D_ES13_HH_GTC_B...\n",
       "11    K5_20170512084638_000000_20430_D_HR11_VV_GTC_B...\n",
       "12    K5_20150416090038_000000_09048_D_HR08_HH_GTC_B...\n",
       "13    K5_20210619201409_000000_42976_A_EH20_HH_GTC_B...\n",
       "14    K5_20200630085612_000000_37646_D_EH04_HH_GTC_B...\n",
       "15    K5_20200413083533_004053_36473_D_ES16_HH_GTC_B...\n",
       "Name: Name, dtype: object"
      ]
     },
     "execution_count": 19,
     "metadata": {},
     "output_type": "execute_result"
    }
   ],
   "source": [
    "df_n"
   ]
  },
  {
   "cell_type": "code",
   "execution_count": 20,
   "id": "b630c669-fac5-432d-8941-4c1087a10ddb",
   "metadata": {},
   "outputs": [],
   "source": [
    "df = pd.DataFrame(zip(image_list,df_n))"
   ]
  },
  {
   "cell_type": "code",
   "execution_count": 23,
   "id": "de7f33e8-26e2-4841-9463-05f572b83e43",
   "metadata": {},
   "outputs": [
    {
     "data": {
      "text/html": [
       "<div>\n",
       "<style scoped>\n",
       "    .dataframe tbody tr th:only-of-type {\n",
       "        vertical-align: middle;\n",
       "    }\n",
       "\n",
       "    .dataframe tbody tr th {\n",
       "        vertical-align: top;\n",
       "    }\n",
       "\n",
       "    .dataframe thead th {\n",
       "        text-align: right;\n",
       "    }\n",
       "</style>\n",
       "<table border=\"1\" class=\"dataframe\">\n",
       "  <thead>\n",
       "    <tr style=\"text-align: right;\">\n",
       "      <th></th>\n",
       "      <th>0</th>\n",
       "      <th>1</th>\n",
       "    </tr>\n",
       "  </thead>\n",
       "  <tbody>\n",
       "    <tr>\n",
       "      <th>0</th>\n",
       "      <td>Mapbox_20230223_011327_zoom_level_0_5.tif</td>\n",
       "      <td>K5_20150402220158_000000_08846_A_HR23_HH_GTC_B...</td>\n",
       "    </tr>\n",
       "    <tr>\n",
       "      <th>1</th>\n",
       "      <td>Mapbox_20230223_011648_zoom_level_0_5.tif</td>\n",
       "      <td>K5_20190510084513_000000_31376_D_HR11_VV_GTC_B...</td>\n",
       "    </tr>\n",
       "    <tr>\n",
       "      <th>2</th>\n",
       "      <td>Mapbox_20230223_012203_zoom_level_0_5.tif</td>\n",
       "      <td>K5_20200621200911_000000_37518_A_EH02_HH_GTC_B...</td>\n",
       "    </tr>\n",
       "    <tr>\n",
       "      <th>3</th>\n",
       "      <td>Mapbox_20230223_100749_zoom_level_0_5.tif</td>\n",
       "      <td>K5_20210523201037_000000_42570_A_EH26_HH_GTC_B...</td>\n",
       "    </tr>\n",
       "    <tr>\n",
       "      <th>4</th>\n",
       "      <td>Mapbox_20230223_101219_zoom_level_0_5.tif</td>\n",
       "      <td>K5_20210524200715_000000_42585_A_EH30_HH_GTC_B...</td>\n",
       "    </tr>\n",
       "    <tr>\n",
       "      <th>5</th>\n",
       "      <td>Mapbox_20230223_101644_zoom_level_0_5.tif</td>\n",
       "      <td>K5_20190506085933_000000_31316_D_EH11_HH_GTC_B...</td>\n",
       "    </tr>\n",
       "    <tr>\n",
       "      <th>6</th>\n",
       "      <td>Mapbox_20230223_102051_zoom_level_0_5.tif</td>\n",
       "      <td>K5_20200620201228_000000_37503_A_EH22_HH_GTC_B...</td>\n",
       "    </tr>\n",
       "    <tr>\n",
       "      <th>7</th>\n",
       "      <td>Mapbox_20230223_102211_zoom_level_0_5.tif</td>\n",
       "      <td>K5_20180527200827_000000_26151_A_EH26_HH_GTC_B...</td>\n",
       "    </tr>\n",
       "    <tr>\n",
       "      <th>8</th>\n",
       "      <td>Mapbox_20230223_102659_zoom_level_0_5.tif</td>\n",
       "      <td>K5_20210423201715_000000_42119_A_EH14_HH_GTC_B...</td>\n",
       "    </tr>\n",
       "    <tr>\n",
       "      <th>9</th>\n",
       "      <td>Mapbox_20230223_103145_zoom_level_0_5.tif</td>\n",
       "      <td>K5_20180429200838_000000_25730_A_EH03_HH_GTC_B...</td>\n",
       "    </tr>\n",
       "    <tr>\n",
       "      <th>10</th>\n",
       "      <td>Mapbox_20230223_103605_zoom_level_0_5.tif</td>\n",
       "      <td>K5_20210504085751_012147_42277_D_ES13_HH_GTC_B...</td>\n",
       "    </tr>\n",
       "    <tr>\n",
       "      <th>11</th>\n",
       "      <td>Mapbox_20230223_140936_zoom_level_0_5.tif</td>\n",
       "      <td>K5_20170512084638_000000_20430_D_HR11_VV_GTC_B...</td>\n",
       "    </tr>\n",
       "    <tr>\n",
       "      <th>12</th>\n",
       "      <td>Mapbox_20230223_141012_zoom_level_0_5.tif</td>\n",
       "      <td>K5_20150416090038_000000_09048_D_HR08_HH_GTC_B...</td>\n",
       "    </tr>\n",
       "    <tr>\n",
       "      <th>13</th>\n",
       "      <td>Mapbox_20230224_002356_zoom_level_0_5.tif</td>\n",
       "      <td>K5_20210619201409_000000_42976_A_EH20_HH_GTC_B...</td>\n",
       "    </tr>\n",
       "    <tr>\n",
       "      <th>14</th>\n",
       "      <td>Mapbox_20230224_002628_zoom_level_0_5.tif</td>\n",
       "      <td>K5_20200630085612_000000_37646_D_EH04_HH_GTC_B...</td>\n",
       "    </tr>\n",
       "    <tr>\n",
       "      <th>15</th>\n",
       "      <td>Mapbox_20230224_003111_zoom_level_0_5.tif</td>\n",
       "      <td>K5_20200413083533_004053_36473_D_ES16_HH_GTC_B...</td>\n",
       "    </tr>\n",
       "  </tbody>\n",
       "</table>\n",
       "</div>"
      ],
      "text/plain": [
       "                                            0  \\\n",
       "0   Mapbox_20230223_011327_zoom_level_0_5.tif   \n",
       "1   Mapbox_20230223_011648_zoom_level_0_5.tif   \n",
       "2   Mapbox_20230223_012203_zoom_level_0_5.tif   \n",
       "3   Mapbox_20230223_100749_zoom_level_0_5.tif   \n",
       "4   Mapbox_20230223_101219_zoom_level_0_5.tif   \n",
       "5   Mapbox_20230223_101644_zoom_level_0_5.tif   \n",
       "6   Mapbox_20230223_102051_zoom_level_0_5.tif   \n",
       "7   Mapbox_20230223_102211_zoom_level_0_5.tif   \n",
       "8   Mapbox_20230223_102659_zoom_level_0_5.tif   \n",
       "9   Mapbox_20230223_103145_zoom_level_0_5.tif   \n",
       "10  Mapbox_20230223_103605_zoom_level_0_5.tif   \n",
       "11  Mapbox_20230223_140936_zoom_level_0_5.tif   \n",
       "12  Mapbox_20230223_141012_zoom_level_0_5.tif   \n",
       "13  Mapbox_20230224_002356_zoom_level_0_5.tif   \n",
       "14  Mapbox_20230224_002628_zoom_level_0_5.tif   \n",
       "15  Mapbox_20230224_003111_zoom_level_0_5.tif   \n",
       "\n",
       "                                                    1  \n",
       "0   K5_20150402220158_000000_08846_A_HR23_HH_GTC_B...  \n",
       "1   K5_20190510084513_000000_31376_D_HR11_VV_GTC_B...  \n",
       "2   K5_20200621200911_000000_37518_A_EH02_HH_GTC_B...  \n",
       "3   K5_20210523201037_000000_42570_A_EH26_HH_GTC_B...  \n",
       "4   K5_20210524200715_000000_42585_A_EH30_HH_GTC_B...  \n",
       "5   K5_20190506085933_000000_31316_D_EH11_HH_GTC_B...  \n",
       "6   K5_20200620201228_000000_37503_A_EH22_HH_GTC_B...  \n",
       "7   K5_20180527200827_000000_26151_A_EH26_HH_GTC_B...  \n",
       "8   K5_20210423201715_000000_42119_A_EH14_HH_GTC_B...  \n",
       "9   K5_20180429200838_000000_25730_A_EH03_HH_GTC_B...  \n",
       "10  K5_20210504085751_012147_42277_D_ES13_HH_GTC_B...  \n",
       "11  K5_20170512084638_000000_20430_D_HR11_VV_GTC_B...  \n",
       "12  K5_20150416090038_000000_09048_D_HR08_HH_GTC_B...  \n",
       "13  K5_20210619201409_000000_42976_A_EH20_HH_GTC_B...  \n",
       "14  K5_20200630085612_000000_37646_D_EH04_HH_GTC_B...  \n",
       "15  K5_20200413083533_004053_36473_D_ES16_HH_GTC_B...  "
      ]
     },
     "execution_count": 23,
     "metadata": {},
     "output_type": "execute_result"
    }
   ],
   "source": [
    "df"
   ]
  },
  {
   "cell_type": "code",
   "execution_count": 24,
   "id": "8d2c58fd-3f25-4456-b16c-1a4d3966d5b7",
   "metadata": {},
   "outputs": [],
   "source": [
    "df.to_csv('13dataset.csv')"
   ]
  },
  {
   "cell_type": "markdown",
   "id": "214f8791-e468-4c09-88a4-1338d6eafb7c",
   "metadata": {},
   "source": [
    "## 처음에 받았던 영상들 "
   ]
  },
  {
   "cell_type": "code",
   "execution_count": 4,
   "id": "d0df23f5-a54d-4490-8e1e-093d5d85a472",
   "metadata": {},
   "outputs": [],
   "source": [
    "path = 'D:/1278images/kml_data/test.kml'\n",
    "path2 = 'D:/1278images/kml_data/test.txt'\n",
    "f = open(path,'r')\n",
    "output = open(path2,'w')"
   ]
  },
  {
   "cell_type": "code",
   "execution_count": 5,
   "id": "9b32ad58-a645-403a-af71-ff08be2a8f44",
   "metadata": {},
   "outputs": [],
   "source": [
    "folder_list = os.listdir('D:/1278images/Mapbox')\n",
    "folder_list = natsort.natsorted(folder_list)"
   ]
  },
  {
   "cell_type": "code",
   "execution_count": 6,
   "id": "427824fc-3f52-4f2a-a5ce-21a6300dcb33",
   "metadata": {},
   "outputs": [],
   "source": [
    "folder_list_ago = folder_list[:3]"
   ]
  },
  {
   "cell_type": "code",
   "execution_count": 7,
   "id": "f8a9a7ce-1cb5-4590-81f6-abcd30edb35a",
   "metadata": {},
   "outputs": [
    {
     "data": {
      "text/plain": [
       "['20230215', '20230216', '20230217']"
      ]
     },
     "execution_count": 7,
     "metadata": {},
     "output_type": "execute_result"
    }
   ],
   "source": [
    "folder_list_ago"
   ]
  },
  {
   "cell_type": "code",
   "execution_count": 8,
   "id": "f50e70ca-ab6c-4d81-9152-cf8104aacbc8",
   "metadata": {
    "tags": []
   },
   "outputs": [],
   "source": [
    "image_list = []\n",
    "for i in range(len(folder_list_ago)):\n",
    "    l = str(folder_list[i])\n",
    "    p = 'D:/1278images/Mapbox/'\n",
    "    path = p + l\n",
    "    m = os.listdir(path)\n",
    "    n = natsort.natsorted(m)\n",
    "    for i in range(len(n)):\n",
    "        image_list.append(n[i])"
   ]
  },
  {
   "cell_type": "code",
   "execution_count": 9,
   "id": "8a0b3b14-01aa-4b87-a958-8267da6e3554",
   "metadata": {
    "collapsed": true,
    "jupyter": {
     "outputs_hidden": true
    },
    "tags": []
   },
   "outputs": [
    {
     "data": {
      "text/plain": [
       "['Mapbox_20230215_104925_zoom_level_0_5.tif',\n",
       " 'Mapbox_20230215_104931_zoom_level_0_5.tif',\n",
       " 'Mapbox_20230215_110910_zoom_level_0_5.tif',\n",
       " 'Mapbox_20230215_122232_zoom_level_0_5.tif',\n",
       " 'Mapbox_20230216_002451_zoom_level_0_5.tif',\n",
       " 'Mapbox_20230216_090757_zoom_level_0_5.tif',\n",
       " 'Mapbox_20230216_104851_zoom_level_0_5.tif',\n",
       " 'Mapbox_20230216_125340_zoom_level_0_5.tif',\n",
       " 'Mapbox_20230216_125414_zoom_level_0_5.tif',\n",
       " 'Mapbox_20230216_150508_zoom_level_0_5.tif',\n",
       " 'Mapbox_20230216_160610_zoom_level_0_5.tif',\n",
       " 'Mapbox_20230216_173814_zoom_level_0_5.tif',\n",
       " 'Mapbox_20230216_233908_zoom_level_0_5.tif',\n",
       " 'Mapbox_20230217_005739_zoom_level_0_5.tif',\n",
       " 'Mapbox_20230217_034005_zoom_level_0_5.tif',\n",
       " 'Mapbox_20230217_043801_zoom_level_0_5.tif',\n",
       " 'Mapbox_20230217_094243_zoom_level_0_5.tif']"
      ]
     },
     "execution_count": 9,
     "metadata": {},
     "output_type": "execute_result"
    }
   ],
   "source": [
    "image_list"
   ]
  },
  {
   "cell_type": "code",
   "execution_count": 10,
   "id": "03826e05-66d2-49f0-83fd-57c68b47c761",
   "metadata": {},
   "outputs": [
    {
     "data": {
      "text/plain": [
       "17"
      ]
     },
     "execution_count": 10,
     "metadata": {},
     "output_type": "execute_result"
    }
   ],
   "source": [
    "num_image = len(image_list)\n",
    "num_image"
   ]
  },
  {
   "cell_type": "code",
   "execution_count": 11,
   "id": "a3560016-1d59-4398-8c4c-14218c85e60c",
   "metadata": {},
   "outputs": [],
   "source": [
    "fiona.drvsupport.supported_drivers['KML'] = 'rw'\n",
    "df_first = gpd.read_file('D:/1278images/kml_data/kml912.kml')"
   ]
  },
  {
   "cell_type": "code",
   "execution_count": 12,
   "id": "c888e4cd-ee9d-459e-92ee-993664966a5e",
   "metadata": {},
   "outputs": [],
   "source": [
    "kml_list = df_first['Name'][:num_image]"
   ]
  },
  {
   "cell_type": "code",
   "execution_count": 14,
   "id": "a2aac1bc-c896-49e0-ad3b-33a2913699ee",
   "metadata": {
    "tags": []
   },
   "outputs": [
    {
     "data": {
      "text/plain": [
       "0     K5_20211007094304_000010_44623_D_ES14_HH_GTC_B...\n",
       "1     K5_20171107215745_000000_23130_A_EH25_HH_GTC_B...\n",
       "2     K5_20171109094059_000000_23152_D_EH23_HH_GTC_B...\n",
       "3     K5_20171108094422_000000_23137_D_EH16_HH_GTC_B...\n",
       "4     K5_20201012213832_000010_39218_A_ES01_HH_GTC_B...\n",
       "5     K5_20211102094957_000000_45014_D_EH10_HH_GTC_B...\n",
       "6     K5_20191105215713_024333_34076_A_ES16_HV_GTC_B...\n",
       "7     K5_20191109214406_000010_34136_A_ES03_HV_GTC_B...\n",
       "8     K5_20171011215425_000000_22724_A_EH20_HH_GTC_B...\n",
       "9     K5_20191022085517_004037_33857_D_ES01_HH_GTC_B...\n",
       "10    K5_20201212090753_004037_40127_D_ES01_HH_GTC_B...\n",
       "11    K5_20191118085941_004046_34263_D_ES10_HH_GTC_B...\n",
       "12    K5_20171209201226_000000_23610_A_EH20_HH_GTC_B...\n",
       "13    K5_20191012201157_000000_33714_A_EH22_HH_GTC_B...\n",
       "14    K5_20201116090044_000000_39736_D_EH01_HH_GTC_B...\n",
       "15    K5_20191011201521_000000_33699_A_EH14_HH_GTC_B...\n",
       "16    K5_20151225084940_000000_12852_D_HR11_VV_GTC_B...\n",
       "Name: Name, dtype: object"
      ]
     },
     "execution_count": 14,
     "metadata": {},
     "output_type": "execute_result"
    }
   ],
   "source": [
    "kml_list"
   ]
  },
  {
   "cell_type": "code",
   "execution_count": 22,
   "id": "5ec87567-6bb1-4236-822f-fd76ebb1b5e6",
   "metadata": {
    "tags": []
   },
   "outputs": [],
   "source": [
    "df = pd.DataFrame(zip(image_list,kml_list))"
   ]
  },
  {
   "cell_type": "code",
   "execution_count": 23,
   "id": "1c7c9b8a-d81d-439c-820f-5abe30c0dc7b",
   "metadata": {},
   "outputs": [],
   "source": [
    "df.columns = [\"image_name\",\"kml_name\"]"
   ]
  },
  {
   "cell_type": "code",
   "execution_count": 24,
   "id": "2cd3a5c9-c942-4c43-9735-4380caf4f85a",
   "metadata": {},
   "outputs": [],
   "source": [
    "pd.options.display.max_colwidth = 100"
   ]
  },
  {
   "cell_type": "code",
   "execution_count": 25,
   "id": "4451bb4b-0364-4615-b293-0cc01bd9601a",
   "metadata": {
    "tags": []
   },
   "outputs": [
    {
     "data": {
      "text/html": [
       "<div>\n",
       "<style scoped>\n",
       "    .dataframe tbody tr th:only-of-type {\n",
       "        vertical-align: middle;\n",
       "    }\n",
       "\n",
       "    .dataframe tbody tr th {\n",
       "        vertical-align: top;\n",
       "    }\n",
       "\n",
       "    .dataframe thead th {\n",
       "        text-align: right;\n",
       "    }\n",
       "</style>\n",
       "<table border=\"1\" class=\"dataframe\">\n",
       "  <thead>\n",
       "    <tr style=\"text-align: right;\">\n",
       "      <th></th>\n",
       "      <th>image_name</th>\n",
       "      <th>kml_name</th>\n",
       "    </tr>\n",
       "  </thead>\n",
       "  <tbody>\n",
       "    <tr>\n",
       "      <th>0</th>\n",
       "      <td>Mapbox_20230215_104925_zoom_level_0_5.tif</td>\n",
       "      <td>K5_20211007094304_000010_44623_D_ES14_HH_GTC_B_L1D</td>\n",
       "    </tr>\n",
       "    <tr>\n",
       "      <th>1</th>\n",
       "      <td>Mapbox_20230215_104931_zoom_level_0_5.tif</td>\n",
       "      <td>K5_20171107215745_000000_23130_A_EH25_HH_GTC_B_L1D</td>\n",
       "    </tr>\n",
       "    <tr>\n",
       "      <th>2</th>\n",
       "      <td>Mapbox_20230215_110910_zoom_level_0_5.tif</td>\n",
       "      <td>K5_20171109094059_000000_23152_D_EH23_HH_GTC_B_L1D</td>\n",
       "    </tr>\n",
       "    <tr>\n",
       "      <th>3</th>\n",
       "      <td>Mapbox_20230215_122232_zoom_level_0_5.tif</td>\n",
       "      <td>K5_20171108094422_000000_23137_D_EH16_HH_GTC_B_L1D</td>\n",
       "    </tr>\n",
       "    <tr>\n",
       "      <th>4</th>\n",
       "      <td>Mapbox_20230216_002451_zoom_level_0_5.tif</td>\n",
       "      <td>K5_20201012213832_000010_39218_A_ES01_HH_GTC_B_L1D</td>\n",
       "    </tr>\n",
       "    <tr>\n",
       "      <th>5</th>\n",
       "      <td>Mapbox_20230216_090757_zoom_level_0_5.tif</td>\n",
       "      <td>K5_20211102094957_000000_45014_D_EH10_HH_GTC_B_L1D</td>\n",
       "    </tr>\n",
       "    <tr>\n",
       "      <th>6</th>\n",
       "      <td>Mapbox_20230216_104851_zoom_level_0_5.tif</td>\n",
       "      <td>K5_20191105215713_024333_34076_A_ES16_HV_GTC_B_L1D</td>\n",
       "    </tr>\n",
       "    <tr>\n",
       "      <th>7</th>\n",
       "      <td>Mapbox_20230216_125340_zoom_level_0_5.tif</td>\n",
       "      <td>K5_20191109214406_000010_34136_A_ES03_HV_GTC_B_L1D</td>\n",
       "    </tr>\n",
       "    <tr>\n",
       "      <th>8</th>\n",
       "      <td>Mapbox_20230216_125414_zoom_level_0_5.tif</td>\n",
       "      <td>K5_20171011215425_000000_22724_A_EH20_HH_GTC_B_L1D</td>\n",
       "    </tr>\n",
       "    <tr>\n",
       "      <th>9</th>\n",
       "      <td>Mapbox_20230216_150508_zoom_level_0_5.tif</td>\n",
       "      <td>K5_20191022085517_004037_33857_D_ES01_HH_GTC_B_L1D</td>\n",
       "    </tr>\n",
       "    <tr>\n",
       "      <th>10</th>\n",
       "      <td>Mapbox_20230216_160610_zoom_level_0_5.tif</td>\n",
       "      <td>K5_20201212090753_004037_40127_D_ES01_HH_GTC_B_L1D</td>\n",
       "    </tr>\n",
       "    <tr>\n",
       "      <th>11</th>\n",
       "      <td>Mapbox_20230216_173814_zoom_level_0_5.tif</td>\n",
       "      <td>K5_20191118085941_004046_34263_D_ES10_HH_GTC_B_L1D</td>\n",
       "    </tr>\n",
       "    <tr>\n",
       "      <th>12</th>\n",
       "      <td>Mapbox_20230216_233908_zoom_level_0_5.tif</td>\n",
       "      <td>K5_20171209201226_000000_23610_A_EH20_HH_GTC_B_L1D</td>\n",
       "    </tr>\n",
       "    <tr>\n",
       "      <th>13</th>\n",
       "      <td>Mapbox_20230217_005739_zoom_level_0_5.tif</td>\n",
       "      <td>K5_20191012201157_000000_33714_A_EH22_HH_GTC_B_L1D</td>\n",
       "    </tr>\n",
       "    <tr>\n",
       "      <th>14</th>\n",
       "      <td>Mapbox_20230217_034005_zoom_level_0_5.tif</td>\n",
       "      <td>K5_20201116090044_000000_39736_D_EH01_HH_GTC_B_L1D</td>\n",
       "    </tr>\n",
       "    <tr>\n",
       "      <th>15</th>\n",
       "      <td>Mapbox_20230217_043801_zoom_level_0_5.tif</td>\n",
       "      <td>K5_20191011201521_000000_33699_A_EH14_HH_GTC_B_L1D</td>\n",
       "    </tr>\n",
       "    <tr>\n",
       "      <th>16</th>\n",
       "      <td>Mapbox_20230217_094243_zoom_level_0_5.tif</td>\n",
       "      <td>K5_20151225084940_000000_12852_D_HR11_VV_GTC_B_L1D</td>\n",
       "    </tr>\n",
       "  </tbody>\n",
       "</table>\n",
       "</div>"
      ],
      "text/plain": [
       "                                   image_name  \\\n",
       "0   Mapbox_20230215_104925_zoom_level_0_5.tif   \n",
       "1   Mapbox_20230215_104931_zoom_level_0_5.tif   \n",
       "2   Mapbox_20230215_110910_zoom_level_0_5.tif   \n",
       "3   Mapbox_20230215_122232_zoom_level_0_5.tif   \n",
       "4   Mapbox_20230216_002451_zoom_level_0_5.tif   \n",
       "5   Mapbox_20230216_090757_zoom_level_0_5.tif   \n",
       "6   Mapbox_20230216_104851_zoom_level_0_5.tif   \n",
       "7   Mapbox_20230216_125340_zoom_level_0_5.tif   \n",
       "8   Mapbox_20230216_125414_zoom_level_0_5.tif   \n",
       "9   Mapbox_20230216_150508_zoom_level_0_5.tif   \n",
       "10  Mapbox_20230216_160610_zoom_level_0_5.tif   \n",
       "11  Mapbox_20230216_173814_zoom_level_0_5.tif   \n",
       "12  Mapbox_20230216_233908_zoom_level_0_5.tif   \n",
       "13  Mapbox_20230217_005739_zoom_level_0_5.tif   \n",
       "14  Mapbox_20230217_034005_zoom_level_0_5.tif   \n",
       "15  Mapbox_20230217_043801_zoom_level_0_5.tif   \n",
       "16  Mapbox_20230217_094243_zoom_level_0_5.tif   \n",
       "\n",
       "                                              kml_name  \n",
       "0   K5_20211007094304_000010_44623_D_ES14_HH_GTC_B_L1D  \n",
       "1   K5_20171107215745_000000_23130_A_EH25_HH_GTC_B_L1D  \n",
       "2   K5_20171109094059_000000_23152_D_EH23_HH_GTC_B_L1D  \n",
       "3   K5_20171108094422_000000_23137_D_EH16_HH_GTC_B_L1D  \n",
       "4   K5_20201012213832_000010_39218_A_ES01_HH_GTC_B_L1D  \n",
       "5   K5_20211102094957_000000_45014_D_EH10_HH_GTC_B_L1D  \n",
       "6   K5_20191105215713_024333_34076_A_ES16_HV_GTC_B_L1D  \n",
       "7   K5_20191109214406_000010_34136_A_ES03_HV_GTC_B_L1D  \n",
       "8   K5_20171011215425_000000_22724_A_EH20_HH_GTC_B_L1D  \n",
       "9   K5_20191022085517_004037_33857_D_ES01_HH_GTC_B_L1D  \n",
       "10  K5_20201212090753_004037_40127_D_ES01_HH_GTC_B_L1D  \n",
       "11  K5_20191118085941_004046_34263_D_ES10_HH_GTC_B_L1D  \n",
       "12  K5_20171209201226_000000_23610_A_EH20_HH_GTC_B_L1D  \n",
       "13  K5_20191012201157_000000_33714_A_EH22_HH_GTC_B_L1D  \n",
       "14  K5_20201116090044_000000_39736_D_EH01_HH_GTC_B_L1D  \n",
       "15  K5_20191011201521_000000_33699_A_EH14_HH_GTC_B_L1D  \n",
       "16  K5_20151225084940_000000_12852_D_HR11_VV_GTC_B_L1D  "
      ]
     },
     "execution_count": 25,
     "metadata": {},
     "output_type": "execute_result"
    }
   ],
   "source": [
    "df"
   ]
  },
  {
   "cell_type": "code",
   "execution_count": 27,
   "id": "3c45f80d-0b73-4789-8adc-02c3388fecec",
   "metadata": {},
   "outputs": [],
   "source": [
    "df.to_csv('test_dataset.csv')"
   ]
  },
  {
   "cell_type": "code",
   "execution_count": null,
   "id": "1a391296-d804-45fd-abde-8ff2fa46dc8b",
   "metadata": {},
   "outputs": [],
   "source": []
  },
  {
   "cell_type": "code",
   "execution_count": null,
   "id": "456b12fe-365b-474d-b37b-f4e0de4f1e4b",
   "metadata": {},
   "outputs": [],
   "source": []
  }
 ],
 "metadata": {
  "kernelspec": {
   "display_name": "Python 3 (ipykernel)",
   "language": "python",
   "name": "python3"
  },
  "language_info": {
   "codemirror_mode": {
    "name": "ipython",
    "version": 3
   },
   "file_extension": ".py",
   "mimetype": "text/x-python",
   "name": "python",
   "nbconvert_exporter": "python",
   "pygments_lexer": "ipython3",
   "version": "3.9.16"
  }
 },
 "nbformat": 4,
 "nbformat_minor": 5
}
